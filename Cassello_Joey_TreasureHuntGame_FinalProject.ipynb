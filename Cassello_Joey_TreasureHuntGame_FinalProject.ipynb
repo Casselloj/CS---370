{
 "cells": [
  {
   "cell_type": "markdown",
   "metadata": {},
   "source": [
    "# Treasure Hunt Game Notebook\n",
    "\n",
    "## Read and Review Your Starter Code\n",
    "The theme of this project is a popular treasure hunt game in which the player needs to find the treasure before the pirate does. While you will not be developing the entire game, you will write the part of the game that represents the intelligent agent, which is a pirate in this case. The pirate will try to find the optimal path to the treasure using deep Q-learning. \n",
    "\n",
    "You have been provided with two Python classes and this notebook to help you with this assignment. The first class, <b>TreasureMaze.py</b>, represents the environment, which includes a maze object defined as a matrix. The second class, <b>GameExperience.py</b>, stores the episodes – that is, all the states that come in between the initial state and the terminal state. This is later used by the agent for learning by experience, called \"exploration\". This notebook shows how to play a game. Your task is to complete the deep Q-learning implementation in the qtrain() function for which a skeleton implementation has been provided. \n",
    "\n",
    "The code block you will need to complete has <b>#TODO</b> as a header.\n",
    "\n",
    "First, read and review the next few code and instruction blocks to understand the code that you have been given."
   ]
  },
  {
   "cell_type": "markdown",
   "metadata": {},
   "source": [
    "<div class=\"alert alert-block alert-warning\" style=\"color: #333333;\">\n",
    "<b>Installations</b> The following command will install the necessary Python libraries to necessary to run this application. If you see a \"[notice] A new release of pip is available: 23.1.2 -> 25.2\" at the end of the installation, you may disregard that statement. \n",
    "</div>"
   ]
  },
  {
   "cell_type": "code",
   "execution_count": 1,
   "metadata": {
    "scrolled": true
   },
   "outputs": [
    {
     "name": "stdout",
     "output_type": "stream",
     "text": [
      "Requirement already satisfied: numpy==1.26.4 in /home/codio/.pyenv/versions/3.11.2/lib/python3.11/site-packages (from -r requirements.txt (line 1)) (1.26.4)\n",
      "Requirement already satisfied: keras in /home/codio/.local/lib/python3.11/site-packages (from -r requirements.txt (line 2)) (3.11.3)\n",
      "Collecting tensorflow==2.19.0 (from -r requirements.txt (line 3))\n",
      "  Using cached tensorflow-2.19.0-cp311-cp311-manylinux_2_17_x86_64.manylinux2014_x86_64.whl.metadata (4.1 kB)\n",
      "Requirement already satisfied: absl-py>=1.0.0 in /home/codio/.pyenv/versions/3.11.2/lib/python3.11/site-packages (from tensorflow==2.19.0->-r requirements.txt (line 3)) (2.3.1)\n",
      "Requirement already satisfied: astunparse>=1.6.0 in /home/codio/.pyenv/versions/3.11.2/lib/python3.11/site-packages (from tensorflow==2.19.0->-r requirements.txt (line 3)) (1.6.3)\n",
      "Requirement already satisfied: flatbuffers>=24.3.25 in /home/codio/.pyenv/versions/3.11.2/lib/python3.11/site-packages (from tensorflow==2.19.0->-r requirements.txt (line 3)) (25.9.23)\n",
      "Requirement already satisfied: gast!=0.5.0,!=0.5.1,!=0.5.2,>=0.2.1 in /home/codio/.pyenv/versions/3.11.2/lib/python3.11/site-packages (from tensorflow==2.19.0->-r requirements.txt (line 3)) (0.6.0)\n",
      "Requirement already satisfied: google-pasta>=0.1.1 in /home/codio/.pyenv/versions/3.11.2/lib/python3.11/site-packages (from tensorflow==2.19.0->-r requirements.txt (line 3)) (0.2.0)\n",
      "Requirement already satisfied: libclang>=13.0.0 in /home/codio/.pyenv/versions/3.11.2/lib/python3.11/site-packages (from tensorflow==2.19.0->-r requirements.txt (line 3)) (18.1.1)\n",
      "Requirement already satisfied: opt-einsum>=2.3.2 in /home/codio/.pyenv/versions/3.11.2/lib/python3.11/site-packages (from tensorflow==2.19.0->-r requirements.txt (line 3)) (3.4.0)\n",
      "Requirement already satisfied: packaging in /home/codio/.pyenv/versions/3.11.2/lib/python3.11/site-packages (from tensorflow==2.19.0->-r requirements.txt (line 3)) (23.0)\n",
      "Requirement already satisfied: protobuf!=4.21.0,!=4.21.1,!=4.21.2,!=4.21.3,!=4.21.4,!=4.21.5,<6.0.0dev,>=3.20.3 in /home/codio/.pyenv/versions/3.11.2/lib/python3.11/site-packages (from tensorflow==2.19.0->-r requirements.txt (line 3)) (5.29.5)\n",
      "Requirement already satisfied: requests<3,>=2.21.0 in /home/codio/.pyenv/versions/3.11.2/lib/python3.11/site-packages (from tensorflow==2.19.0->-r requirements.txt (line 3)) (2.30.0)\n",
      "Requirement already satisfied: setuptools in /home/codio/.pyenv/versions/3.11.2/lib/python3.11/site-packages (from tensorflow==2.19.0->-r requirements.txt (line 3)) (65.5.0)\n",
      "Requirement already satisfied: six>=1.12.0 in /home/codio/.pyenv/versions/3.11.2/lib/python3.11/site-packages (from tensorflow==2.19.0->-r requirements.txt (line 3)) (1.16.0)\n",
      "Requirement already satisfied: termcolor>=1.1.0 in /home/codio/.pyenv/versions/3.11.2/lib/python3.11/site-packages (from tensorflow==2.19.0->-r requirements.txt (line 3)) (3.1.0)\n",
      "Requirement already satisfied: typing-extensions>=3.6.6 in /home/codio/.pyenv/versions/3.11.2/lib/python3.11/site-packages (from tensorflow==2.19.0->-r requirements.txt (line 3)) (4.15.0)\n",
      "Requirement already satisfied: wrapt>=1.11.0 in /home/codio/.pyenv/versions/3.11.2/lib/python3.11/site-packages (from tensorflow==2.19.0->-r requirements.txt (line 3)) (1.17.3)\n",
      "Requirement already satisfied: grpcio<2.0,>=1.24.3 in /home/codio/.pyenv/versions/3.11.2/lib/python3.11/site-packages (from tensorflow==2.19.0->-r requirements.txt (line 3)) (1.75.1)\n",
      "Requirement already satisfied: tensorboard~=2.19.0 in /home/codio/.pyenv/versions/3.11.2/lib/python3.11/site-packages (from tensorflow==2.19.0->-r requirements.txt (line 3)) (2.19.0)\n",
      "Requirement already satisfied: h5py>=3.11.0 in /home/codio/.pyenv/versions/3.11.2/lib/python3.11/site-packages (from tensorflow==2.19.0->-r requirements.txt (line 3)) (3.14.0)\n",
      "Requirement already satisfied: ml-dtypes<1.0.0,>=0.5.1 in /home/codio/.pyenv/versions/3.11.2/lib/python3.11/site-packages (from tensorflow==2.19.0->-r requirements.txt (line 3)) (0.5.3)\n",
      "Requirement already satisfied: tensorflow-io-gcs-filesystem>=0.23.1 in /home/codio/.pyenv/versions/3.11.2/lib/python3.11/site-packages (from tensorflow==2.19.0->-r requirements.txt (line 3)) (0.37.1)\n",
      "Requirement already satisfied: charset-normalizer<4,>=2 in /home/codio/.pyenv/versions/3.11.2/lib/python3.11/site-packages (from requests<3,>=2.21.0->tensorflow==2.19.0->-r requirements.txt (line 3)) (2.1.1)\n",
      "Requirement already satisfied: idna<4,>=2.5 in /home/codio/.pyenv/versions/3.11.2/lib/python3.11/site-packages (from requests<3,>=2.21.0->tensorflow==2.19.0->-r requirements.txt (line 3)) (3.4)\n",
      "Requirement already satisfied: urllib3<3,>=1.21.1 in /home/codio/.pyenv/versions/3.11.2/lib/python3.11/site-packages (from requests<3,>=2.21.0->tensorflow==2.19.0->-r requirements.txt (line 3)) (2.0.2)\n",
      "Requirement already satisfied: certifi>=2017.4.17 in /home/codio/.pyenv/versions/3.11.2/lib/python3.11/site-packages (from requests<3,>=2.21.0->tensorflow==2.19.0->-r requirements.txt (line 3)) (2023.5.7)\n",
      "Requirement already satisfied: markdown>=2.6.8 in /home/codio/.pyenv/versions/3.11.2/lib/python3.11/site-packages (from tensorboard~=2.19.0->tensorflow==2.19.0->-r requirements.txt (line 3)) (3.9)\n",
      "Requirement already satisfied: tensorboard-data-server<0.8.0,>=0.7.0 in /home/codio/.pyenv/versions/3.11.2/lib/python3.11/site-packages (from tensorboard~=2.19.0->tensorflow==2.19.0->-r requirements.txt (line 3)) (0.7.2)\n",
      "Requirement already satisfied: werkzeug>=1.0.1 in /home/codio/.pyenv/versions/3.11.2/lib/python3.11/site-packages (from tensorboard~=2.19.0->tensorflow==2.19.0->-r requirements.txt (line 3)) (2.0.0)\n",
      "Requirement already satisfied: rich in /home/codio/.pyenv/versions/3.11.2/lib/python3.11/site-packages (from keras->-r requirements.txt (line 2)) (14.1.0)\n",
      "Requirement already satisfied: namex in /home/codio/.pyenv/versions/3.11.2/lib/python3.11/site-packages (from keras->-r requirements.txt (line 2)) (0.1.0)\n",
      "Requirement already satisfied: optree in /home/codio/.pyenv/versions/3.11.2/lib/python3.11/site-packages (from keras->-r requirements.txt (line 2)) (0.17.0)\n",
      "Requirement already satisfied: wheel<1.0,>=0.23.0 in /home/codio/.pyenv/versions/3.11.2/lib/python3.11/site-packages (from astunparse>=1.6.0->tensorflow==2.19.0->-r requirements.txt (line 3)) (0.45.1)\n",
      "Requirement already satisfied: markdown-it-py>=2.2.0 in /home/codio/.pyenv/versions/3.11.2/lib/python3.11/site-packages (from rich->keras->-r requirements.txt (line 2)) (4.0.0)\n",
      "Requirement already satisfied: pygments<3.0.0,>=2.13.0 in /home/codio/.pyenv/versions/3.11.2/lib/python3.11/site-packages (from rich->keras->-r requirements.txt (line 2)) (2.15.1)\n",
      "Requirement already satisfied: mdurl~=0.1 in /home/codio/.pyenv/versions/3.11.2/lib/python3.11/site-packages (from markdown-it-py>=2.2.0->rich->keras->-r requirements.txt (line 2)) (0.1.2)\n",
      "Using cached tensorflow-2.19.0-cp311-cp311-manylinux_2_17_x86_64.manylinux2014_x86_64.whl (644.9 MB)\n",
      "\u001b[31mERROR: Could not install packages due to an OSError: [Errno 28] No space left on device\n",
      "\u001b[0m\u001b[31m\n",
      "\u001b[0m"
     ]
    }
   ],
   "source": [
    "!pip install -r requirements.txt"
   ]
  },
  {
   "cell_type": "markdown",
   "metadata": {},
   "source": [
    "<h2>Tensorflow CPU Acceleration Warning</h2>\n",
    "<div class=\"alert alert-block alert-danger\" style=\"color: #333333;\">\n",
    "    You will see a <b>warning in red</b> \"oneDNN custom operations are on. You may see slightly different numerical results due to floating-point round-off errors from different computation orders\". This is simply coming from <b>Tensorflow to accelerate computations on CPU.</b>  \n",
    "</div>"
   ]
  },
  {
   "cell_type": "code",
   "execution_count": 2,
   "metadata": {},
   "outputs": [
    {
     "name": "stderr",
     "output_type": "stream",
     "text": [
      "2025-10-19 19:59:48.764295: I tensorflow/core/util/port.cc:153] oneDNN custom operations are on. You may see slightly different numerical results due to floating-point round-off errors from different computation orders. To turn them off, set the environment variable `TF_ENABLE_ONEDNN_OPTS=0`.\n",
      "2025-10-19 19:59:48.845585: I tensorflow/core/platform/cpu_feature_guard.cc:210] This TensorFlow binary is optimized to use available CPU instructions in performance-critical operations.\n",
      "To enable the following instructions: AVX2 AVX512F AVX512_VNNI FMA, in other operations, rebuild TensorFlow with the appropriate compiler flags.\n",
      "2025-10-19 19:59:56.587222: I tensorflow/core/util/port.cc:153] oneDNN custom operations are on. You may see slightly different numerical results due to floating-point round-off errors from different computation orders. To turn them off, set the environment variable `TF_ENABLE_ONEDNN_OPTS=0`.\n"
     ]
    }
   ],
   "source": [
    "from __future__ import print_function\n",
    "import os, sys, time, datetime, json, random\n",
    "import numpy as np\n",
    "import tensorflow as tf\n",
    "from tensorflow.keras.models import clone_model\n",
    "from keras.models import Sequential\n",
    "from keras.layers import Dense, Activation, PReLU\n",
    "from keras.optimizers import SGD , Adam, RMSprop\n",
    "import matplotlib.pyplot as plt\n",
    "from TreasureMaze import TreasureMaze\n",
    "from GameExperience2 import GameExperience\n",
    "%matplotlib inline"
   ]
  },
  {
   "cell_type": "markdown",
   "metadata": {},
   "source": [
    "<h2> Maze Object Generation</h2>\n",
    "\n",
    "The following code block contains an 8x8 matrix that will be used as a maze object:"
   ]
  },
  {
   "cell_type": "code",
   "execution_count": 3,
   "metadata": {},
   "outputs": [],
   "source": [
    "maze = np.array([\n",
    "    [ 1.,  0.,  1.,  1.,  1.,  1.,  1.,  1.],\n",
    "    [ 1.,  0.,  1.,  1.,  1.,  0.,  1.,  1.],\n",
    "    [ 1.,  1.,  1.,  1.,  0.,  1.,  0.,  1.],\n",
    "    [ 1.,  1.,  1.,  0.,  1.,  1.,  1.,  1.],\n",
    "    [ 1.,  1.,  0.,  1.,  1.,  1.,  1.,  1.],\n",
    "    [ 1.,  1.,  1.,  0.,  1.,  0.,  0.,  0.],\n",
    "    [ 1.,  1.,  1.,  0.,  1.,  1.,  1.,  1.],\n",
    "    [ 1.,  1.,  1.,  1.,  0.,  1.,  1.,  1.]\n",
    "])"
   ]
  },
  {
   "cell_type": "markdown",
   "metadata": {},
   "source": [
    "<h2>Helper Functions and Global Variables</h2>\n",
    "\n",
    "This <b>show()</b> helper function allows a visual representation of the maze object:"
   ]
  },
  {
   "cell_type": "code",
   "execution_count": 4,
   "metadata": {},
   "outputs": [],
   "source": [
    "def show(qmaze):\n",
    "    plt.grid('on')\n",
    "    nrows, ncols = qmaze.maze.shape\n",
    "    ax = plt.gca()\n",
    "    ax.set_xticks(np.arange(0.5, nrows, 1))\n",
    "    ax.set_yticks(np.arange(0.5, ncols, 1))\n",
    "    ax.set_xticklabels([])\n",
    "    ax.set_yticklabels([])\n",
    "    canvas = np.copy(qmaze.maze)\n",
    "    for row,col in qmaze.visited:\n",
    "        canvas[row,col] = 0.6\n",
    "    pirate_row, pirate_col, _ = qmaze.state\n",
    "    canvas[pirate_row, pirate_col] = 0.3   # pirate cell\n",
    "    canvas[nrows-1, ncols-1] = 0.9 # treasure cell\n",
    "    img = plt.imshow(canvas, interpolation='none', cmap='gray')\n",
    "    return img"
   ]
  },
  {
   "cell_type": "markdown",
   "metadata": {},
   "source": [
    "The <b>pirate agent</b> can move in four directions: left, right, up, and down. \n",
    "\n",
    "While the agent primarily learns by experience through exploitation, often, the agent can choose to explore the environment to find previously undiscovered paths. This is called \"exploration\" and is defined by epsilon. This value is the EXPLORATION values from the Cartpole assignment. The hyperparameters are provided here and used in the qtrain() method. \n",
    "You are encouraged to try various values for the exploration factor and see how the algorithm performs."
   ]
  },
  {
   "cell_type": "code",
   "execution_count": 5,
   "metadata": {},
   "outputs": [],
   "source": [
    "LEFT = 0\n",
    "UP = 1\n",
    "RIGHT = 2\n",
    "DOWN = 3\n",
    "\n",
    "\n",
    "# Exploration factor\n",
    "epsilon = 1.0\n",
    "epsilon_min = 0.05\n",
    "epsilon_decay = 0.995\n",
    "patience = 10\n",
    "\n",
    "# Actions dictionary\n",
    "actions_dict = {\n",
    "    LEFT: 'left',\n",
    "    UP: 'up',\n",
    "    RIGHT: 'right',\n",
    "    DOWN: 'down',\n",
    "}\n",
    "\n",
    "num_actions = len(actions_dict)\n"
   ]
  },
  {
   "cell_type": "markdown",
   "metadata": {},
   "source": [
    "The sample code block and output below show creating a maze object and performing one action (DOWN), which returns the reward. The resulting updated environment is visualized."
   ]
  },
  {
   "cell_type": "code",
   "execution_count": 6,
   "metadata": {},
   "outputs": [
    {
     "name": "stdout",
     "output_type": "stream",
     "text": [
      "reward= -0.04\n"
     ]
    },
    {
     "data": {
      "text/plain": [
       "<matplotlib.image.AxesImage at 0x714df9898a50>"
      ]
     },
     "execution_count": 6,
     "metadata": {},
     "output_type": "execute_result"
    },
    {
     "data": {
      "image/png": "[encoded data removed]",
      "text/plain": [
       "<Figure size 640x480 with 1 Axes>"
      ]
     },
     "metadata": {},
     "output_type": "display_data"
    }
   ],
   "source": [
    "qmaze = TreasureMaze(maze)\n",
    "canvas, reward, game_over = qmaze.act(DOWN)\n",
    "print(\"reward=\", reward)\n",
    "show(qmaze)"
   ]
  },
  {
   "cell_type": "markdown",
   "metadata": {},
   "source": [
    "This <b>play_game()</b> function simulates a full game based on the provided trained model. The other parameters include the TreasureMaze object, the starting position of the pirate and max amount of steps to make sure the code does not get stuck in a loop."
   ]
  },
  {
   "cell_type": "code",
   "execution_count": 7,
   "metadata": {},
   "outputs": [],
   "source": [
    "def play_game(model, qmaze, pirate_cell, max_steps=None):\n",
    "    qmaze.reset(pirate_cell)\n",
    "    envstate = qmaze.observe()\n",
    "    steps = 0\n",
    "    if max_steps is None:\n",
    "        max_steps = qmaze.maze.size * 4  # safety cutoff\n",
    "\n",
    "    while steps < max_steps:\n",
    "        state = np.asarray(envstate, dtype=np.float32)\n",
    "        if state.ndim == 1:\n",
    "            state = np.expand_dims(state, axis=0)\n",
    "\n",
    "        q_values = model(state, training=False).numpy()\n",
    "        action = np.argmax(q_values[0])\n",
    "\n",
    "        envstate, reward, game_status = qmaze.act(action)\n",
    "        steps += 1\n",
    "\n",
    "        if game_status == 'win':\n",
    "            return True\n",
    "        elif game_status == 'lose':\n",
    "            return False\n",
    "\n",
    "    return False  # timed out with no result"
   ]
  },
  {
   "cell_type": "markdown",
   "metadata": {},
   "source": [
    "This <b>completion_check()</b> function helps you to determine whether the pirate can win any game at all. If your maze is not well designed, the pirate may not win any game at all. In this case, your training would not yield any result. The provided maze in this notebook ensures that there is a path to win and you can run this method to check."
   ]
  },
  {
   "cell_type": "code",
   "execution_count": 8,
   "metadata": {},
   "outputs": [],
   "source": [
    "def completion_check(model, maze_or_qmaze, max_steps=None):\n",
    "    # Accept either raw numpy maze or TreasureMaze instance\n",
    "    if isinstance(maze_or_qmaze, TreasureMaze):\n",
    "        qmaze = maze_or_qmaze\n",
    "    else:\n",
    "        qmaze = TreasureMaze(maze_or_qmaze)\n",
    "\n",
    "    for cell in qmaze.free_cells:\n",
    "        if not qmaze.valid_actions(cell):\n",
    "            continue\n",
    "        if not play_game(model, qmaze, cell, max_steps=max_steps):\n",
    "            return False\n",
    "    return True"
   ]
  },
  {
   "cell_type": "markdown",
   "metadata": {},
   "source": [
    "The <b>build_model()</b> function in the block below will build the neural network model. Review the code and note the number of layers, as well as the activation, optimizer, and loss functions that are used to train the model."
   ]
  },
  {
   "cell_type": "code",
   "execution_count": 9,
   "metadata": {},
   "outputs": [],
   "source": [
    "def build_model(maze):\n",
    "    model = Sequential()\n",
    "    model.add(Dense(maze.size, input_shape=(maze.size,)))\n",
    "    model.add(PReLU())\n",
    "    model.add(Dense(maze.size))\n",
    "    model.add(PReLU())\n",
    "    model.add(Dense(num_actions))\n",
    "    model.compile(optimizer='adam', loss='mse')\n",
    "    return model"
   ]
  },
  {
   "cell_type": "markdown",
   "metadata": {},
   "source": [
    "This <b>train_step()</b> helper function in the block below is used to help predict Q-values (quality values) in the current modelto see how good each action is in a given state and improve the Q-network by reducing the gap between what is predicted and what should have been predicted. \n",
    "\n",
    "If you're interested in reading up on the <i>@tf.function</i>, which is a decorator for Tensorflow to run this code into a TensorFlow computation graph, please refer to this link: https://www.tensorflow.org/guide/intro_to_graphs\n",
    "\n"
   ]
  },
  {
   "cell_type": "markdown",
   "metadata": {},
   "source": [
    "<h2>Tensorflow GPU Warning</h2>\n",
    "<div class=\"alert alert-block alert-danger\" style=\"color: #333333;\">\n",
    "    You will see a <b>warning in red</b> \"INTERNAL: CUDA Runtime error: Failed call to cudaGetRuntimeVersion: Error loading CUDA libraries. GPU will not be used.\". This is simply coming from <b>Tensorflow skipping using GPU for this assignment.</b>  \n",
    " </div>"
   ]
  },
  {
   "cell_type": "code",
   "execution_count": 10,
   "metadata": {},
   "outputs": [],
   "source": [
    "loss_fn = tf.keras.losses.MeanSquaredError()\n",
    "optimizer = tf.keras.optimizers.Adam()\n",
    "\n",
    "@tf.function\n",
    "def train_step(x, y):\n",
    "    with tf.GradientTape() as tape:\n",
    "        q_values = model(x, training=True)\n",
    "        loss = loss_fn(y, q_values)\n",
    "    grads = tape.gradient(loss, model.trainable_variables)\n",
    "    optimizer.apply_gradients(zip(grads, model.trainable_variables))\n",
    "    return loss"
   ]
  },
  {
   "cell_type": "markdown",
   "metadata": {},
   "source": [
    "# #TODO: Complete the Q-Training Algorithm Code Block\n",
    "\n",
    "This is your deep Q-learning implementation. The goal of your deep Q-learning implementation is to find the best possible navigation sequence that results in reaching the treasure cell while maximizing the reward. In your implementation, you need to determine the optimal number of epochs to achieve a 100% win rate.\n",
    "\n",
    "    Pseudocode:\n",
    "    For each epoch:\n",
    "        Reset the environment at a random starting cell\n",
    "        agent_cell = randomly select a free cell\n",
    "        Hint: Review the reset method in the TreasureMaze.py class.\n",
    "    \n",
    "        Set the initial environment state\n",
    "        env_state should reference the environment's current state\n",
    "        Hint: Review the observe method in the TreasureMaze.py class.\n",
    "\n",
    "        While game status is not game over:\n",
    "           previous_envstate = env_state\n",
    "            Decide on an action:\n",
    "                - If possible, take a random valid exploration action and \n",
    "                  randomly choose action (left, right, up, down)\n",
    "                  and assign it to an action variable\n",
    "                - Else, pick the best exploitation action from the model and assign it to an action variable\n",
    "                  Hint: Review the predict method in the GameExperience.py class.\n",
    "    \n",
    "           Retrieve the values below from the act() method.\n",
    "           env_state, reward, game_status = qmaze.act(action)\n",
    "           Hint: Review the act method in the TreasureMaze.py class.\n",
    "    \n",
    "            Track the wins and losses from the game_status using win_history \n",
    "         \n",
    "           Store the episode below in the Experience replay object\n",
    "           episode = [previous_envstate, action, reward, envstate, game_status]\n",
    "           Hint: Review the remember method in the GameExperience.py class.\n",
    "        \n",
    "           Train neural network model and evaluate loss\n",
    "           Hint: Call GameExperience.get_data to retrieve training data (input and target) \n",
    "           and pass to the train_step method and assign it to batch_loss and append to the loss variable\n",
    "        \n",
    "      If the win rate is above the threshold and your model passes the completion check, that would be your epoch.\n",
    "\n",
    "Note: A 100% win rate <b>DOES NOT EXPLICITLY MEAN</b> that you have solved the maze. It simply indicates that during the last evaluation, the pirate <i>happened</i> to get to the treasure. Be sure to utilise the <b>completion_check()</b> function to validate your pirate found the treasure at every starting point and consistently! \n",
    "\n",
    "<b> You will need to complete the section starting with #START_HERE. Please use the pseudocode above as guidance. </b>\n",
    "\n",
    "\n"
   ]
  },
  {
   "cell_type": "code",
   "execution_count": 11,
   "metadata": {},
   "outputs": [],
   "source": [
    "import numpy as np\n",
    "import random\n",
    "import datetime\n",
    "from tensorflow.keras.models import clone_model\n",
    "\n",
    "def qtrain(model, maze, **opt):\n",
    "    global epsilon  # exploration factor\n",
    "\n",
    "    # Hyperparameters\n",
    "    n_epoch = opt.get('n_epoch', 15000)\n",
    "    max_memory = opt.get('max_memory', 1000)\n",
    "    data_size = opt.get('data_size', 50)\n",
    "    target_update_freq = opt.get('target_update_freq', 50)\n",
    "\n",
    "    # Start time\n",
    "    start_time = datetime.datetime.now()\n",
    "\n",
    "    # Construct environment/game from numpy array: maze (see above)\n",
    "    qmaze = TreasureMaze(maze)\n",
    "\n",
    "    # Target network for stable Q-learning\n",
    "    target_model = clone_model(model)\n",
    "    target_model.set_weights(model.get_weights())\n",
    "\n",
    "    # Initialize experience replay object\n",
    "    experience = GameExperience(model, target_model, max_memory=max_memory)\n",
    "\n",
    "    win_history = []  # 1 per episode\n",
    "    hsize = 100       # rolling window for win rate\n",
    "\n",
    "    for epoch in range(n_epoch):\n",
    "        # Reset for this epoch\n",
    "        loss = 0.0\n",
    "        n_episodes = 0\n",
    "\n",
    "        # Random starting position\n",
    "        agent_cell = random.choice(qmaze.free_cells)\n",
    "        qmaze.reset(agent_cell)\n",
    "        env_state = qmaze.observe()\n",
    "        done = False\n",
    "\n",
    "        while not done:\n",
    "            previous_envstate = env_state\n",
    "\n",
    "            # Decide action: explore or exploit\n",
    "            if np.random.rand() < epsilon:\n",
    "                valid_actions = qmaze.valid_actions(qmaze.state[:2])\n",
    "                action = random.choice(valid_actions)\n",
    "            else:\n",
    "                state_input = np.expand_dims(np.asarray(env_state, dtype=np.float32), axis=0)\n",
    "                state_input = state_input.reshape(1, -1)  # flatten for model\n",
    "                q_values = model(state_input, training=False).numpy()[0]\n",
    "\n",
    "                valid_actions = qmaze.valid_actions(qmaze.state[:2])\n",
    "                q_values_masked = np.full_like(q_values, -np.inf)\n",
    "                q_values_masked[valid_actions] = q_values[valid_actions]\n",
    "                action = np.argmax(q_values_masked)\n",
    "\n",
    "            # Take action in environment\n",
    "            env_state, reward, game_status = qmaze.act(action)\n",
    "            done = game_status in ['win', 'lose']\n",
    "\n",
    "            # Store experience\n",
    "            episode = [previous_envstate, action, reward, env_state, game_status]\n",
    "            experience.remember(episode)\n",
    "\n",
    "            # Train on a batch from memory\n",
    "            inputs, targets = experience.get_data(data_size)\n",
    "            if inputs is not None and targets is not None:\n",
    "                batch_loss = train_step(inputs, targets).numpy()\n",
    "                loss += batch_loss\n",
    "\n",
    "        # Episode finished\n",
    "        n_episodes += 1\n",
    "        win_history.append(1 if game_status == 'win' else 0)\n",
    "\n",
    "        # Update epsilon\n",
    "        rolling_win_rate = sum(win_history[-hsize:]) / min(len(win_history), hsize)\n",
    "        if rolling_win_rate > 0.9:\n",
    "            epsilon = 0.05\n",
    "        else:\n",
    "            epsilon = max(epsilon * epsilon_decay, epsilon_min)\n",
    "\n",
    "        # Update target model periodically\n",
    "        if epoch % target_update_freq == 0:\n",
    "            target_model.set_weights(model.get_weights())\n",
    "\n",
    "        # Print summary per epoch\n",
    "        dt = datetime.datetime.now() - start_time\n",
    "        t = format_time(dt.total_seconds())\n",
    "        print(f\"Epoch: {epoch:03d}/{n_epoch-1} | Loss: {loss:.4f} | Episodes: {n_episodes} | \"\n",
    "              f\"Win count: {sum(win_history)} | Win rate: {rolling_win_rate:.3f} | time: {t}\")\n",
    "\n",
    "        # Stop if consistently winning\n",
    "        if rolling_win_rate >= 0.999:\n",
    "            print(f\"Reached consistent win rate ≥ 0.999 at epoch {epoch}\")\n",
    "            break\n",
    "\n",
    "    total_time = format_time((datetime.datetime.now() - start_time).total_seconds())\n",
    "    print(\"Training complete in:\", total_time)\n",
    "\n",
    "# This is a small utility for printing readable time strings:\n",
    "def format_time(seconds):\n",
    "    if seconds < 400:\n",
    "        return f\"{seconds:.1f} seconds\"\n",
    "    elif seconds < 4000:\n",
    "        return f\"{seconds/60:.2f} minutes\"\n",
    "    else:\n",
    "        return f\"{seconds/3600:.2f} hours\"\n"
   ]
  },
  {
   "cell_type": "markdown",
   "metadata": {},
   "source": [
    "## Test Your Model\n",
    "\n",
    "Now we will start testing the deep Q-learning implementation. To begin, select **Cell**, then **Run All** from the menu bar. This will run your notebook. As it runs, you should see output begin to appear beneath the next few cells. The code below creates an <b>instance</b> of TreasureMaze. This does not show your actual training done."
   ]
  },
  {
   "cell_type": "code",
   "execution_count": 12,
   "metadata": {},
   "outputs": [
    {
     "data": {
      "text/plain": [
       "<matplotlib.image.AxesImage at 0x714d8ac2f650>"
      ]
     },
     "execution_count": 12,
     "metadata": {},
     "output_type": "execute_result"
    },
    {
     "data": {
      "image/png": "[encoded data removed]",
      "text/plain": [
       "<Figure size 640x480 with 1 Axes>"
      ]
     },
     "metadata": {},
     "output_type": "display_data"
    }
   ],
   "source": [
    "qmaze = TreasureMaze(maze)\n",
    "show(qmaze)"
   ]
  },
  {
   "cell_type": "markdown",
   "metadata": {},
   "source": [
    "In the next code block, you will build your model using the <b>build_model</b> function and train it using deep Q-learning. Note: This step takes several minutes to fully run.\n",
    "\n"
   ]
  },
  {
   "cell_type": "markdown",
   "metadata": {},
   "source": [
    "<div class=\"alert alert-block alert-danger\" style=\"color: #333333;\">\n",
    "    If you did not attempt the assignment, the code <b>will</b> error out at this section.\n",
    " </div>"
   ]
  },
  {
   "cell_type": "code",
   "execution_count": 13,
   "metadata": {
    "scrolled": true
   },
   "outputs": [
    {
     "name": "stderr",
     "output_type": "stream",
     "text": [
      "/home/codio/.local/lib/python3.11/site-packages/keras/src/layers/core/dense.py:92: UserWarning: Do not pass an `input_shape`/`input_dim` argument to a layer. When using Sequential models, prefer using an `Input(shape)` object as the first layer in the model instead.\n",
      "  super().__init__(activity_regularizer=activity_regularizer, **kwargs)\n"
     ]
    },
    {
     "name": "stdout",
     "output_type": "stream",
     "text": [
      "Epoch: 000/999 | Loss: 0.3325 | Episodes: 1 | Win count: 0 | Win rate: 0.000 | time: 8.5 seconds\n",
      "Epoch: 001/999 | Loss: 0.2395 | Episodes: 1 | Win count: 1 | Win rate: 0.500 | time: 14.1 seconds\n",
      "Epoch: 002/999 | Loss: 0.5032 | Episodes: 1 | Win count: 1 | Win rate: 0.333 | time: 19.7 seconds\n",
      "Epoch: 003/999 | Loss: 0.4030 | Episodes: 1 | Win count: 1 | Win rate: 0.250 | time: 26.1 seconds\n",
      "Epoch: 004/999 | Loss: 0.4036 | Episodes: 1 | Win count: 1 | Win rate: 0.200 | time: 31.4 seconds\n",
      "Epoch: 005/999 | Loss: 0.3245 | Episodes: 1 | Win count: 1 | Win rate: 0.167 | time: 37.7 seconds\n",
      "Epoch: 006/999 | Loss: 0.2173 | Episodes: 1 | Win count: 1 | Win rate: 0.143 | time: 42.7 seconds\n",
      "Epoch: 007/999 | Loss: 0.1730 | Episodes: 1 | Win count: 1 | Win rate: 0.125 | time: 47.9 seconds\n",
      "Epoch: 008/999 | Loss: 0.1733 | Episodes: 1 | Win count: 1 | Win rate: 0.111 | time: 53.8 seconds\n",
      "Epoch: 009/999 | Loss: 0.2096 | Episodes: 1 | Win count: 1 | Win rate: 0.100 | time: 60.0 seconds\n",
      "Epoch: 010/999 | Loss: 0.0532 | Episodes: 1 | Win count: 2 | Win rate: 0.182 | time: 62.1 seconds\n",
      "Epoch: 011/999 | Loss: 0.2940 | Episodes: 1 | Win count: 2 | Win rate: 0.167 | time: 66.2 seconds\n",
      "Epoch: 012/999 | Loss: 0.3752 | Episodes: 1 | Win count: 2 | Win rate: 0.154 | time: 73.4 seconds\n",
      "Epoch: 013/999 | Loss: 0.3007 | Episodes: 1 | Win count: 2 | Win rate: 0.143 | time: 80.0 seconds\n",
      "Epoch: 014/999 | Loss: 0.2994 | Episodes: 1 | Win count: 2 | Win rate: 0.133 | time: 87.0 seconds\n",
      "Epoch: 015/999 | Loss: 0.2615 | Episodes: 1 | Win count: 2 | Win rate: 0.125 | time: 93.9 seconds\n",
      "Epoch: 016/999 | Loss: 0.1274 | Episodes: 1 | Win count: 3 | Win rate: 0.176 | time: 96.6 seconds\n",
      "Epoch: 017/999 | Loss: 0.3745 | Episodes: 1 | Win count: 3 | Win rate: 0.167 | time: 102.1 seconds\n",
      "Epoch: 018/999 | Loss: 0.0451 | Episodes: 1 | Win count: 4 | Win rate: 0.211 | time: 102.9 seconds\n",
      "Epoch: 019/999 | Loss: 0.0490 | Episodes: 1 | Win count: 5 | Win rate: 0.250 | time: 103.5 seconds\n",
      "Epoch: 020/999 | Loss: 0.2165 | Episodes: 1 | Win count: 6 | Win rate: 0.286 | time: 105.6 seconds\n",
      "Epoch: 021/999 | Loss: 0.6665 | Episodes: 1 | Win count: 6 | Win rate: 0.273 | time: 112.2 seconds\n",
      "Epoch: 022/999 | Loss: 0.1231 | Episodes: 1 | Win count: 7 | Win rate: 0.304 | time: 113.7 seconds\n",
      "Epoch: 023/999 | Loss: 0.2593 | Episodes: 1 | Win count: 8 | Win rate: 0.333 | time: 116.6 seconds\n",
      "Epoch: 024/999 | Loss: 0.3458 | Episodes: 1 | Win count: 9 | Win rate: 0.360 | time: 119.5 seconds\n",
      "Epoch: 025/999 | Loss: 0.9114 | Episodes: 1 | Win count: 9 | Win rate: 0.346 | time: 124.5 seconds\n",
      "Epoch: 026/999 | Loss: 0.0017 | Episodes: 1 | Win count: 10 | Win rate: 0.370 | time: 124.5 seconds\n",
      "Epoch: 027/999 | Loss: 0.5714 | Episodes: 1 | Win count: 10 | Win rate: 0.357 | time: 130.6 seconds\n",
      "Epoch: 028/999 | Loss: 0.4943 | Episodes: 1 | Win count: 10 | Win rate: 0.345 | time: 136.2 seconds\n",
      "Epoch: 029/999 | Loss: 0.3477 | Episodes: 1 | Win count: 10 | Win rate: 0.333 | time: 141.3 seconds\n",
      "Epoch: 030/999 | Loss: 0.2308 | Episodes: 1 | Win count: 10 | Win rate: 0.323 | time: 147.8 seconds\n",
      "Epoch: 031/999 | Loss: 0.1755 | Episodes: 1 | Win count: 10 | Win rate: 0.312 | time: 154.2 seconds\n",
      "Epoch: 032/999 | Loss: 0.0730 | Episodes: 1 | Win count: 11 | Win rate: 0.333 | time: 156.6 seconds\n",
      "Epoch: 033/999 | Loss: 0.0478 | Episodes: 1 | Win count: 12 | Win rate: 0.353 | time: 157.7 seconds\n",
      "Epoch: 034/999 | Loss: 0.2869 | Episodes: 1 | Win count: 12 | Win rate: 0.343 | time: 165.1 seconds\n",
      "Epoch: 035/999 | Loss: 0.2795 | Episodes: 1 | Win count: 12 | Win rate: 0.333 | time: 170.8 seconds\n",
      "Epoch: 036/999 | Loss: 0.2831 | Episodes: 1 | Win count: 12 | Win rate: 0.324 | time: 178.1 seconds\n",
      "Epoch: 037/999 | Loss: 0.1831 | Episodes: 1 | Win count: 13 | Win rate: 0.342 | time: 183.4 seconds\n",
      "Epoch: 038/999 | Loss: 0.0011 | Episodes: 1 | Win count: 14 | Win rate: 0.359 | time: 183.4 seconds\n",
      "Epoch: 039/999 | Loss: 0.0241 | Episodes: 1 | Win count: 15 | Win rate: 0.375 | time: 183.7 seconds\n",
      "Epoch: 040/999 | Loss: 0.3153 | Episodes: 1 | Win count: 15 | Win rate: 0.366 | time: 190.4 seconds\n",
      "Epoch: 041/999 | Loss: 0.2766 | Episodes: 1 | Win count: 16 | Win rate: 0.381 | time: 196.1 seconds\n",
      "Epoch: 042/999 | Loss: 0.4150 | Episodes: 1 | Win count: 16 | Win rate: 0.372 | time: 203.4 seconds\n",
      "Epoch: 043/999 | Loss: 0.0093 | Episodes: 1 | Win count: 17 | Win rate: 0.386 | time: 203.6 seconds\n",
      "Epoch: 044/999 | Loss: 0.2608 | Episodes: 1 | Win count: 17 | Win rate: 0.378 | time: 210.6 seconds\n",
      "Epoch: 045/999 | Loss: 0.0403 | Episodes: 1 | Win count: 18 | Win rate: 0.391 | time: 211.8 seconds\n",
      "Epoch: 046/999 | Loss: 0.2237 | Episodes: 1 | Win count: 19 | Win rate: 0.404 | time: 217.3 seconds\n",
      "Epoch: 047/999 | Loss: 0.1188 | Episodes: 1 | Win count: 20 | Win rate: 0.417 | time: 220.5 seconds\n",
      "Epoch: 048/999 | Loss: 0.2252 | Episodes: 1 | Win count: 21 | Win rate: 0.429 | time: 225.0 seconds\n",
      "Epoch: 049/999 | Loss: 0.4334 | Episodes: 1 | Win count: 21 | Win rate: 0.420 | time: 232.7 seconds\n",
      "Epoch: 050/999 | Loss: 0.4197 | Episodes: 1 | Win count: 21 | Win rate: 0.412 | time: 239.5 seconds\n",
      "Epoch: 051/999 | Loss: 0.1799 | Episodes: 1 | Win count: 22 | Win rate: 0.423 | time: 242.2 seconds\n",
      "Epoch: 052/999 | Loss: 0.0223 | Episodes: 1 | Win count: 23 | Win rate: 0.434 | time: 242.8 seconds\n",
      "Epoch: 053/999 | Loss: 0.1536 | Episodes: 1 | Win count: 24 | Win rate: 0.444 | time: 245.7 seconds\n",
      "Epoch: 054/999 | Loss: 0.1310 | Episodes: 1 | Win count: 25 | Win rate: 0.455 | time: 248.1 seconds\n",
      "Epoch: 055/999 | Loss: 0.3293 | Episodes: 1 | Win count: 25 | Win rate: 0.446 | time: 255.3 seconds\n",
      "Epoch: 056/999 | Loss: 0.3548 | Episodes: 1 | Win count: 25 | Win rate: 0.439 | time: 263.5 seconds\n",
      "Epoch: 057/999 | Loss: 0.1581 | Episodes: 1 | Win count: 26 | Win rate: 0.448 | time: 266.6 seconds\n",
      "Epoch: 058/999 | Loss: 0.3889 | Episodes: 1 | Win count: 26 | Win rate: 0.441 | time: 274.1 seconds\n",
      "Epoch: 059/999 | Loss: 0.3089 | Episodes: 1 | Win count: 26 | Win rate: 0.433 | time: 280.9 seconds\n",
      "Epoch: 060/999 | Loss: 0.0010 | Episodes: 1 | Win count: 27 | Win rate: 0.443 | time: 281.0 seconds\n",
      "Epoch: 061/999 | Loss: 0.0814 | Episodes: 1 | Win count: 28 | Win rate: 0.452 | time: 283.7 seconds\n",
      "Epoch: 062/999 | Loss: 0.2681 | Episodes: 1 | Win count: 28 | Win rate: 0.444 | time: 289.4 seconds\n",
      "Epoch: 063/999 | Loss: 0.1442 | Episodes: 1 | Win count: 29 | Win rate: 0.453 | time: 294.2 seconds\n",
      "Epoch: 064/999 | Loss: 0.1304 | Episodes: 1 | Win count: 30 | Win rate: 0.462 | time: 298.3 seconds\n",
      "Epoch: 065/999 | Loss: 0.2813 | Episodes: 1 | Win count: 30 | Win rate: 0.455 | time: 307.2 seconds\n",
      "Epoch: 066/999 | Loss: 0.2719 | Episodes: 1 | Win count: 31 | Win rate: 0.463 | time: 315.1 seconds\n",
      "Epoch: 067/999 | Loss: 0.0124 | Episodes: 1 | Win count: 32 | Win rate: 0.471 | time: 315.5 seconds\n",
      "Epoch: 068/999 | Loss: 0.2771 | Episodes: 1 | Win count: 32 | Win rate: 0.464 | time: 322.7 seconds\n",
      "Epoch: 069/999 | Loss: 0.2360 | Episodes: 1 | Win count: 32 | Win rate: 0.457 | time: 331.3 seconds\n",
      "Epoch: 070/999 | Loss: 0.0853 | Episodes: 1 | Win count: 33 | Win rate: 0.465 | time: 334.7 seconds\n",
      "Epoch: 071/999 | Loss: 0.0240 | Episodes: 1 | Win count: 34 | Win rate: 0.472 | time: 335.5 seconds\n",
      "Epoch: 072/999 | Loss: 0.2385 | Episodes: 1 | Win count: 34 | Win rate: 0.466 | time: 343.7 seconds\n",
      "Epoch: 073/999 | Loss: 0.1024 | Episodes: 1 | Win count: 35 | Win rate: 0.473 | time: 347.1 seconds\n",
      "Epoch: 074/999 | Loss: 0.2688 | Episodes: 1 | Win count: 35 | Win rate: 0.467 | time: 355.2 seconds\n",
      "Epoch: 075/999 | Loss: 0.2664 | Episodes: 1 | Win count: 35 | Win rate: 0.461 | time: 363.4 seconds\n",
      "Epoch: 076/999 | Loss: 0.2553 | Episodes: 1 | Win count: 36 | Win rate: 0.468 | time: 371.0 seconds\n",
      "Epoch: 077/999 | Loss: 0.2267 | Episodes: 1 | Win count: 36 | Win rate: 0.462 | time: 379.6 seconds\n",
      "Epoch: 078/999 | Loss: 0.0983 | Episodes: 1 | Win count: 37 | Win rate: 0.468 | time: 381.9 seconds\n",
      "Epoch: 079/999 | Loss: 0.2937 | Episodes: 1 | Win count: 37 | Win rate: 0.463 | time: 390.3 seconds\n",
      "Epoch: 080/999 | Loss: 0.2382 | Episodes: 1 | Win count: 37 | Win rate: 0.457 | time: 398.5 seconds\n",
      "Epoch: 081/999 | Loss: 0.0079 | Episodes: 1 | Win count: 38 | Win rate: 0.463 | time: 398.6 seconds\n",
      "Epoch: 082/999 | Loss: 0.1396 | Episodes: 1 | Win count: 39 | Win rate: 0.470 | time: 6.73 minutes\n",
      "Epoch: 083/999 | Loss: 0.0857 | Episodes: 1 | Win count: 40 | Win rate: 0.476 | time: 6.78 minutes\n",
      "Epoch: 084/999 | Loss: 0.0108 | Episodes: 1 | Win count: 41 | Win rate: 0.482 | time: 6.78 minutes\n",
      "Epoch: 085/999 | Loss: 0.2538 | Episodes: 1 | Win count: 41 | Win rate: 0.477 | time: 6.90 minutes\n",
      "Epoch: 086/999 | Loss: 0.1565 | Episodes: 1 | Win count: 42 | Win rate: 0.483 | time: 6.97 minutes\n",
      "Epoch: 087/999 | Loss: 0.3288 | Episodes: 1 | Win count: 42 | Win rate: 0.477 | time: 7.08 minutes\n",
      "Epoch: 088/999 | Loss: 0.1530 | Episodes: 1 | Win count: 43 | Win rate: 0.483 | time: 7.15 minutes\n",
      "Epoch: 089/999 | Loss: 0.1027 | Episodes: 1 | Win count: 44 | Win rate: 0.489 | time: 7.19 minutes\n",
      "Epoch: 090/999 | Loss: 0.0099 | Episodes: 1 | Win count: 45 | Win rate: 0.495 | time: 7.19 minutes\n",
      "Epoch: 091/999 | Loss: 0.2975 | Episodes: 1 | Win count: 45 | Win rate: 0.489 | time: 7.31 minutes\n",
      "Epoch: 092/999 | Loss: 0.0164 | Episodes: 1 | Win count: 46 | Win rate: 0.495 | time: 7.32 minutes\n",
      "Epoch: 093/999 | Loss: 0.0511 | Episodes: 1 | Win count: 47 | Win rate: 0.500 | time: 7.34 minutes\n",
      "Epoch: 094/999 | Loss: 0.2572 | Episodes: 1 | Win count: 47 | Win rate: 0.495 | time: 7.44 minutes\n",
      "Epoch: 095/999 | Loss: 0.1384 | Episodes: 1 | Win count: 48 | Win rate: 0.500 | time: 7.49 minutes\n",
      "Epoch: 096/999 | Loss: 0.2184 | Episodes: 1 | Win count: 49 | Win rate: 0.505 | time: 7.59 minutes\n",
      "Epoch: 097/999 | Loss: 0.0520 | Episodes: 1 | Win count: 50 | Win rate: 0.510 | time: 7.61 minutes\n",
      "Epoch: 098/999 | Loss: 0.2506 | Episodes: 1 | Win count: 51 | Win rate: 0.515 | time: 7.73 minutes\n",
      "Epoch: 099/999 | Loss: 0.0232 | Episodes: 1 | Win count: 52 | Win rate: 0.520 | time: 7.73 minutes\n",
      "Epoch: 100/999 | Loss: 0.2706 | Episodes: 1 | Win count: 52 | Win rate: 0.520 | time: 7.84 minutes\n",
      "Epoch: 101/999 | Loss: 0.0604 | Episodes: 1 | Win count: 53 | Win rate: 0.520 | time: 7.88 minutes\n",
      "Epoch: 102/999 | Loss: 0.0857 | Episodes: 1 | Win count: 54 | Win rate: 0.530 | time: 7.90 minutes\n",
      "Epoch: 103/999 | Loss: 0.0257 | Episodes: 1 | Win count: 55 | Win rate: 0.540 | time: 7.92 minutes\n",
      "Epoch: 104/999 | Loss: 0.0483 | Episodes: 1 | Win count: 56 | Win rate: 0.550 | time: 7.94 minutes\n",
      "Epoch: 105/999 | Loss: 0.1200 | Episodes: 1 | Win count: 57 | Win rate: 0.560 | time: 8.00 minutes\n",
      "Epoch: 106/999 | Loss: 0.0075 | Episodes: 1 | Win count: 58 | Win rate: 0.570 | time: 8.01 minutes\n",
      "Epoch: 107/999 | Loss: 0.1500 | Episodes: 1 | Win count: 59 | Win rate: 0.580 | time: 8.08 minutes\n",
      "Epoch: 108/999 | Loss: 0.0717 | Episodes: 1 | Win count: 60 | Win rate: 0.590 | time: 8.11 minutes\n",
      "Epoch: 109/999 | Loss: 0.1273 | Episodes: 1 | Win count: 61 | Win rate: 0.600 | time: 8.16 minutes\n",
      "Epoch: 110/999 | Loss: 0.2794 | Episodes: 1 | Win count: 62 | Win rate: 0.600 | time: 8.28 minutes\n",
      "Epoch: 111/999 | Loss: 0.1079 | Episodes: 1 | Win count: 63 | Win rate: 0.610 | time: 8.33 minutes\n",
      "Epoch: 112/999 | Loss: 0.1264 | Episodes: 1 | Win count: 64 | Win rate: 0.620 | time: 8.37 minutes\n",
      "Epoch: 113/999 | Loss: 0.0620 | Episodes: 1 | Win count: 65 | Win rate: 0.630 | time: 8.40 minutes\n",
      "Epoch: 114/999 | Loss: 0.0695 | Episodes: 1 | Win count: 66 | Win rate: 0.640 | time: 8.43 minutes\n",
      "Epoch: 115/999 | Loss: 0.0809 | Episodes: 1 | Win count: 67 | Win rate: 0.650 | time: 8.46 minutes\n",
      "Epoch: 116/999 | Loss: 0.2869 | Episodes: 1 | Win count: 67 | Win rate: 0.640 | time: 8.60 minutes\n",
      "Epoch: 117/999 | Loss: 0.0485 | Episodes: 1 | Win count: 68 | Win rate: 0.650 | time: 8.62 minutes\n",
      "Epoch: 118/999 | Loss: 0.1503 | Episodes: 1 | Win count: 69 | Win rate: 0.650 | time: 8.70 minutes\n",
      "Epoch: 119/999 | Loss: 0.0314 | Episodes: 1 | Win count: 70 | Win rate: 0.650 | time: 8.71 minutes\n",
      "Epoch: 120/999 | Loss: 0.1316 | Episodes: 1 | Win count: 71 | Win rate: 0.650 | time: 8.77 minutes\n",
      "Epoch: 121/999 | Loss: 0.3191 | Episodes: 1 | Win count: 72 | Win rate: 0.660 | time: 8.89 minutes\n",
      "Epoch: 122/999 | Loss: 0.2957 | Episodes: 1 | Win count: 72 | Win rate: 0.650 | time: 9.05 minutes\n",
      "Epoch: 123/999 | Loss: 0.0736 | Episodes: 1 | Win count: 73 | Win rate: 0.650 | time: 9.07 minutes\n",
      "Epoch: 124/999 | Loss: 0.2740 | Episodes: 1 | Win count: 73 | Win rate: 0.640 | time: 9.20 minutes\n",
      "Epoch: 125/999 | Loss: 0.2228 | Episodes: 1 | Win count: 73 | Win rate: 0.640 | time: 9.33 minutes\n",
      "Epoch: 126/999 | Loss: 0.0044 | Episodes: 1 | Win count: 74 | Win rate: 0.640 | time: 9.33 minutes\n",
      "Epoch: 127/999 | Loss: 0.1849 | Episodes: 1 | Win count: 75 | Win rate: 0.650 | time: 9.42 minutes\n",
      "Epoch: 128/999 | Loss: 0.2401 | Episodes: 1 | Win count: 75 | Win rate: 0.650 | time: 9.56 minutes\n",
      "Epoch: 129/999 | Loss: 0.1120 | Episodes: 1 | Win count: 76 | Win rate: 0.660 | time: 9.60 minutes\n",
      "Epoch: 130/999 | Loss: 0.1319 | Episodes: 1 | Win count: 77 | Win rate: 0.670 | time: 9.67 minutes\n",
      "Epoch: 131/999 | Loss: 0.0022 | Episodes: 1 | Win count: 78 | Win rate: 0.680 | time: 9.67 minutes\n",
      "Epoch: 132/999 | Loss: 0.0061 | Episodes: 1 | Win count: 79 | Win rate: 0.680 | time: 9.67 minutes\n",
      "Epoch: 133/999 | Loss: 0.1270 | Episodes: 1 | Win count: 80 | Win rate: 0.680 | time: 9.72 minutes\n",
      "Epoch: 134/999 | Loss: 0.0257 | Episodes: 1 | Win count: 81 | Win rate: 0.690 | time: 9.73 minutes\n",
      "Epoch: 135/999 | Loss: 0.1141 | Episodes: 1 | Win count: 82 | Win rate: 0.700 | time: 9.77 minutes\n",
      "Epoch: 136/999 | Loss: 0.3073 | Episodes: 1 | Win count: 83 | Win rate: 0.710 | time: 9.88 minutes\n",
      "Epoch: 137/999 | Loss: 0.1071 | Episodes: 1 | Win count: 84 | Win rate: 0.710 | time: 9.92 minutes\n",
      "Epoch: 138/999 | Loss: 0.0137 | Episodes: 1 | Win count: 85 | Win rate: 0.710 | time: 9.92 minutes\n",
      "Epoch: 139/999 | Loss: 0.3881 | Episodes: 1 | Win count: 86 | Win rate: 0.710 | time: 10.11 minutes\n",
      "Epoch: 140/999 | Loss: 0.0340 | Episodes: 1 | Win count: 87 | Win rate: 0.720 | time: 10.12 minutes\n",
      "Epoch: 141/999 | Loss: 0.0157 | Episodes: 1 | Win count: 88 | Win rate: 0.720 | time: 10.14 minutes\n",
      "Epoch: 142/999 | Loss: 0.0150 | Episodes: 1 | Win count: 89 | Win rate: 0.730 | time: 10.15 minutes\n",
      "Epoch: 143/999 | Loss: 0.0939 | Episodes: 1 | Win count: 90 | Win rate: 0.730 | time: 10.19 minutes\n",
      "Epoch: 144/999 | Loss: 0.0278 | Episodes: 1 | Win count: 91 | Win rate: 0.740 | time: 10.20 minutes\n",
      "Epoch: 145/999 | Loss: 0.0981 | Episodes: 1 | Win count: 92 | Win rate: 0.740 | time: 10.26 minutes\n",
      "Epoch: 146/999 | Loss: 0.1782 | Episodes: 1 | Win count: 93 | Win rate: 0.740 | time: 10.35 minutes\n",
      "Epoch: 147/999 | Loss: 0.0100 | Episodes: 1 | Win count: 94 | Win rate: 0.740 | time: 10.36 minutes\n",
      "Epoch: 148/999 | Loss: 0.0707 | Episodes: 1 | Win count: 95 | Win rate: 0.740 | time: 10.41 minutes\n",
      "Epoch: 149/999 | Loss: 0.1539 | Episodes: 1 | Win count: 96 | Win rate: 0.750 | time: 10.49 minutes\n",
      "Epoch: 150/999 | Loss: 0.0159 | Episodes: 1 | Win count: 97 | Win rate: 0.760 | time: 10.50 minutes\n",
      "Epoch: 151/999 | Loss: 0.0014 | Episodes: 1 | Win count: 98 | Win rate: 0.760 | time: 10.50 minutes\n",
      "Epoch: 152/999 | Loss: 0.0493 | Episodes: 1 | Win count: 99 | Win rate: 0.760 | time: 10.54 minutes\n",
      "Epoch: 153/999 | Loss: 0.2307 | Episodes: 1 | Win count: 100 | Win rate: 0.760 | time: 10.67 minutes\n",
      "Epoch: 154/999 | Loss: 0.0269 | Episodes: 1 | Win count: 101 | Win rate: 0.760 | time: 10.68 minutes\n",
      "Epoch: 155/999 | Loss: 0.1067 | Episodes: 1 | Win count: 102 | Win rate: 0.770 | time: 10.74 minutes\n",
      "Epoch: 156/999 | Loss: 0.0313 | Episodes: 1 | Win count: 103 | Win rate: 0.780 | time: 10.76 minutes\n",
      "Epoch: 157/999 | Loss: 0.1252 | Episodes: 1 | Win count: 104 | Win rate: 0.780 | time: 10.84 minutes\n",
      "Epoch: 158/999 | Loss: 0.0397 | Episodes: 1 | Win count: 105 | Win rate: 0.790 | time: 10.86 minutes\n",
      "Epoch: 159/999 | Loss: 0.2796 | Episodes: 1 | Win count: 105 | Win rate: 0.790 | time: 11.06 minutes\n",
      "Epoch: 160/999 | Loss: 0.0176 | Episodes: 1 | Win count: 106 | Win rate: 0.790 | time: 11.07 minutes\n",
      "Epoch: 161/999 | Loss: 0.2479 | Episodes: 1 | Win count: 106 | Win rate: 0.780 | time: 11.28 minutes\n",
      "Epoch: 162/999 | Loss: 0.0577 | Episodes: 1 | Win count: 107 | Win rate: 0.790 | time: 11.34 minutes\n",
      "Epoch: 163/999 | Loss: 0.0489 | Episodes: 1 | Win count: 108 | Win rate: 0.790 | time: 11.38 minutes\n",
      "Epoch: 164/999 | Loss: 0.0185 | Episodes: 1 | Win count: 109 | Win rate: 0.790 | time: 11.39 minutes\n",
      "Epoch: 165/999 | Loss: 0.0075 | Episodes: 1 | Win count: 110 | Win rate: 0.800 | time: 11.40 minutes\n",
      "Epoch: 166/999 | Loss: 0.0201 | Episodes: 1 | Win count: 111 | Win rate: 0.800 | time: 11.42 minutes\n",
      "Epoch: 167/999 | Loss: 0.0021 | Episodes: 1 | Win count: 112 | Win rate: 0.800 | time: 11.42 minutes\n",
      "Epoch: 168/999 | Loss: 0.0573 | Episodes: 1 | Win count: 113 | Win rate: 0.810 | time: 11.46 minutes\n",
      "Epoch: 169/999 | Loss: 0.0709 | Episodes: 1 | Win count: 114 | Win rate: 0.820 | time: 11.51 minutes\n",
      "Epoch: 170/999 | Loss: 0.0381 | Episodes: 1 | Win count: 115 | Win rate: 0.820 | time: 11.54 minutes\n",
      "Epoch: 171/999 | Loss: 0.0311 | Episodes: 1 | Win count: 116 | Win rate: 0.820 | time: 11.57 minutes\n",
      "Epoch: 172/999 | Loss: 0.0999 | Episodes: 1 | Win count: 117 | Win rate: 0.830 | time: 11.64 minutes\n",
      "Epoch: 173/999 | Loss: 0.0392 | Episodes: 1 | Win count: 118 | Win rate: 0.830 | time: 11.67 minutes\n",
      "Epoch: 174/999 | Loss: 0.0529 | Episodes: 1 | Win count: 119 | Win rate: 0.840 | time: 11.71 minutes\n",
      "Epoch: 175/999 | Loss: 0.1017 | Episodes: 1 | Win count: 120 | Win rate: 0.850 | time: 11.76 minutes\n",
      "Epoch: 176/999 | Loss: 0.1138 | Episodes: 1 | Win count: 121 | Win rate: 0.850 | time: 11.83 minutes\n",
      "Epoch: 177/999 | Loss: 0.1051 | Episodes: 1 | Win count: 122 | Win rate: 0.860 | time: 11.89 minutes\n",
      "Epoch: 178/999 | Loss: 0.1211 | Episodes: 1 | Win count: 123 | Win rate: 0.860 | time: 11.96 minutes\n",
      "Epoch: 179/999 | Loss: 0.0762 | Episodes: 1 | Win count: 124 | Win rate: 0.870 | time: 12.01 minutes\n",
      "Epoch: 180/999 | Loss: 0.0381 | Episodes: 1 | Win count: 125 | Win rate: 0.880 | time: 12.02 minutes\n",
      "Epoch: 181/999 | Loss: 0.0050 | Episodes: 1 | Win count: 126 | Win rate: 0.880 | time: 12.02 minutes\n",
      "Epoch: 182/999 | Loss: 0.0197 | Episodes: 1 | Win count: 127 | Win rate: 0.880 | time: 12.04 minutes\n",
      "Epoch: 183/999 | Loss: 0.0494 | Episodes: 1 | Win count: 128 | Win rate: 0.880 | time: 12.06 minutes\n",
      "Epoch: 184/999 | Loss: 0.0085 | Episodes: 1 | Win count: 129 | Win rate: 0.880 | time: 12.06 minutes\n",
      "Epoch: 185/999 | Loss: 0.1074 | Episodes: 1 | Win count: 130 | Win rate: 0.890 | time: 12.10 minutes\n",
      "Epoch: 186/999 | Loss: 0.2069 | Episodes: 1 | Win count: 131 | Win rate: 0.890 | time: 12.22 minutes\n",
      "Epoch: 187/999 | Loss: 0.1656 | Episodes: 1 | Win count: 132 | Win rate: 0.900 | time: 12.32 minutes\n",
      "Epoch: 188/999 | Loss: 0.0382 | Episodes: 1 | Win count: 133 | Win rate: 0.900 | time: 12.34 minutes\n",
      "Epoch: 189/999 | Loss: 0.0837 | Episodes: 1 | Win count: 134 | Win rate: 0.900 | time: 12.40 minutes\n",
      "Epoch: 190/999 | Loss: 0.1596 | Episodes: 1 | Win count: 135 | Win rate: 0.900 | time: 12.49 minutes\n",
      "Epoch: 191/999 | Loss: 0.0581 | Episodes: 1 | Win count: 136 | Win rate: 0.910 | time: 12.53 minutes\n",
      "Epoch: 192/999 | Loss: 0.0666 | Episodes: 1 | Win count: 137 | Win rate: 0.910 | time: 12.57 minutes\n",
      "Epoch: 193/999 | Loss: 0.0037 | Episodes: 1 | Win count: 138 | Win rate: 0.910 | time: 12.57 minutes\n",
      "Epoch: 194/999 | Loss: 0.1024 | Episodes: 1 | Win count: 139 | Win rate: 0.920 | time: 12.65 minutes\n",
      "Epoch: 195/999 | Loss: 0.0394 | Episodes: 1 | Win count: 140 | Win rate: 0.920 | time: 12.68 minutes\n",
      "Epoch: 196/999 | Loss: 0.0043 | Episodes: 1 | Win count: 141 | Win rate: 0.920 | time: 12.68 minutes\n",
      "Epoch: 197/999 | Loss: 0.1969 | Episodes: 1 | Win count: 142 | Win rate: 0.920 | time: 12.80 minutes\n",
      "Epoch: 198/999 | Loss: 0.0345 | Episodes: 1 | Win count: 143 | Win rate: 0.920 | time: 12.83 minutes\n",
      "Epoch: 199/999 | Loss: 0.1366 | Episodes: 1 | Win count: 144 | Win rate: 0.920 | time: 12.91 minutes\n",
      "Epoch: 200/999 | Loss: 0.0516 | Episodes: 1 | Win count: 145 | Win rate: 0.930 | time: 12.95 minutes\n",
      "Epoch: 201/999 | Loss: 0.0374 | Episodes: 1 | Win count: 146 | Win rate: 0.930 | time: 12.98 minutes\n",
      "Epoch: 202/999 | Loss: 0.0027 | Episodes: 1 | Win count: 147 | Win rate: 0.930 | time: 12.98 minutes\n",
      "Epoch: 203/999 | Loss: 0.0156 | Episodes: 1 | Win count: 148 | Win rate: 0.930 | time: 12.99 minutes\n",
      "Epoch: 204/999 | Loss: 0.0281 | Episodes: 1 | Win count: 149 | Win rate: 0.930 | time: 13.01 minutes\n",
      "Epoch: 205/999 | Loss: 0.0012 | Episodes: 1 | Win count: 150 | Win rate: 0.930 | time: 13.01 minutes\n",
      "Epoch: 206/999 | Loss: 0.0127 | Episodes: 1 | Win count: 151 | Win rate: 0.930 | time: 13.03 minutes\n",
      "Epoch: 207/999 | Loss: 0.0266 | Episodes: 1 | Win count: 152 | Win rate: 0.930 | time: 13.05 minutes\n",
      "Epoch: 208/999 | Loss: 0.0382 | Episodes: 1 | Win count: 153 | Win rate: 0.930 | time: 13.08 minutes\n",
      "Epoch: 209/999 | Loss: 0.0831 | Episodes: 1 | Win count: 154 | Win rate: 0.930 | time: 13.15 minutes\n",
      "Epoch: 210/999 | Loss: 0.0089 | Episodes: 1 | Win count: 155 | Win rate: 0.930 | time: 13.16 minutes\n",
      "Epoch: 211/999 | Loss: 0.0088 | Episodes: 1 | Win count: 156 | Win rate: 0.930 | time: 13.17 minutes\n",
      "Epoch: 212/999 | Loss: 0.0086 | Episodes: 1 | Win count: 157 | Win rate: 0.930 | time: 13.18 minutes\n",
      "Epoch: 213/999 | Loss: 0.0071 | Episodes: 1 | Win count: 158 | Win rate: 0.930 | time: 13.19 minutes\n",
      "Epoch: 214/999 | Loss: 0.0259 | Episodes: 1 | Win count: 159 | Win rate: 0.930 | time: 13.21 minutes\n",
      "Epoch: 215/999 | Loss: 0.0405 | Episodes: 1 | Win count: 160 | Win rate: 0.930 | time: 13.26 minutes\n",
      "Epoch: 216/999 | Loss: 0.0611 | Episodes: 1 | Win count: 161 | Win rate: 0.940 | time: 13.34 minutes\n",
      "Epoch: 217/999 | Loss: 0.0032 | Episodes: 1 | Win count: 162 | Win rate: 0.940 | time: 13.35 minutes\n",
      "Epoch: 218/999 | Loss: 0.0107 | Episodes: 1 | Win count: 163 | Win rate: 0.940 | time: 13.36 minutes\n",
      "Epoch: 219/999 | Loss: 0.0287 | Episodes: 1 | Win count: 164 | Win rate: 0.940 | time: 13.40 minutes\n",
      "Epoch: 220/999 | Loss: 0.0063 | Episodes: 1 | Win count: 165 | Win rate: 0.940 | time: 13.40 minutes\n",
      "Epoch: 221/999 | Loss: 0.0458 | Episodes: 1 | Win count: 166 | Win rate: 0.940 | time: 13.45 minutes\n",
      "Epoch: 222/999 | Loss: 0.0047 | Episodes: 1 | Win count: 167 | Win rate: 0.950 | time: 13.45 minutes\n",
      "Epoch: 223/999 | Loss: 0.0133 | Episodes: 1 | Win count: 168 | Win rate: 0.950 | time: 13.47 minutes\n",
      "Epoch: 224/999 | Loss: 0.0303 | Episodes: 1 | Win count: 169 | Win rate: 0.960 | time: 13.51 minutes\n",
      "Epoch: 225/999 | Loss: 0.0911 | Episodes: 1 | Win count: 170 | Win rate: 0.970 | time: 13.61 minutes\n",
      "Epoch: 226/999 | Loss: 0.0012 | Episodes: 1 | Win count: 171 | Win rate: 0.970 | time: 13.61 minutes\n",
      "Epoch: 227/999 | Loss: 0.0229 | Episodes: 1 | Win count: 172 | Win rate: 0.970 | time: 13.63 minutes\n",
      "Epoch: 228/999 | Loss: 0.0251 | Episodes: 1 | Win count: 173 | Win rate: 0.980 | time: 13.66 minutes\n",
      "Epoch: 229/999 | Loss: 0.0066 | Episodes: 1 | Win count: 174 | Win rate: 0.980 | time: 13.67 minutes\n",
      "Epoch: 230/999 | Loss: 0.0294 | Episodes: 1 | Win count: 175 | Win rate: 0.980 | time: 13.72 minutes\n",
      "Epoch: 231/999 | Loss: 0.0290 | Episodes: 1 | Win count: 176 | Win rate: 0.980 | time: 13.75 minutes\n",
      "Epoch: 232/999 | Loss: 0.0153 | Episodes: 1 | Win count: 177 | Win rate: 0.980 | time: 13.77 minutes\n",
      "Epoch: 233/999 | Loss: 0.0130 | Episodes: 1 | Win count: 178 | Win rate: 0.980 | time: 13.80 minutes\n",
      "Epoch: 234/999 | Loss: 0.0212 | Episodes: 1 | Win count: 179 | Win rate: 0.980 | time: 13.83 minutes\n",
      "Epoch: 235/999 | Loss: 0.0115 | Episodes: 1 | Win count: 180 | Win rate: 0.980 | time: 13.85 minutes\n",
      "Epoch: 236/999 | Loss: 0.0194 | Episodes: 1 | Win count: 181 | Win rate: 0.980 | time: 13.88 minutes\n",
      "Epoch: 237/999 | Loss: 0.0281 | Episodes: 1 | Win count: 182 | Win rate: 0.980 | time: 13.91 minutes\n",
      "Epoch: 238/999 | Loss: 0.0158 | Episodes: 1 | Win count: 183 | Win rate: 0.980 | time: 13.94 minutes\n",
      "Epoch: 239/999 | Loss: 0.0186 | Episodes: 1 | Win count: 184 | Win rate: 0.980 | time: 13.98 minutes\n",
      "Epoch: 240/999 | Loss: 0.0349 | Episodes: 1 | Win count: 185 | Win rate: 0.980 | time: 14.04 minutes\n",
      "Epoch: 241/999 | Loss: 0.0494 | Episodes: 1 | Win count: 186 | Win rate: 0.980 | time: 14.14 minutes\n",
      "Epoch: 242/999 | Loss: 0.0224 | Episodes: 1 | Win count: 187 | Win rate: 0.980 | time: 14.17 minutes\n",
      "Epoch: 243/999 | Loss: 0.0010 | Episodes: 1 | Win count: 188 | Win rate: 0.980 | time: 14.17 minutes\n",
      "Epoch: 244/999 | Loss: 0.0032 | Episodes: 1 | Win count: 189 | Win rate: 0.980 | time: 14.18 minutes\n",
      "Epoch: 245/999 | Loss: 0.0168 | Episodes: 1 | Win count: 190 | Win rate: 0.980 | time: 14.20 minutes\n",
      "Epoch: 246/999 | Loss: 0.0143 | Episodes: 1 | Win count: 191 | Win rate: 0.980 | time: 14.22 minutes\n",
      "Epoch: 247/999 | Loss: 0.0168 | Episodes: 1 | Win count: 192 | Win rate: 0.980 | time: 14.25 minutes\n",
      "Epoch: 248/999 | Loss: 0.0111 | Episodes: 1 | Win count: 193 | Win rate: 0.980 | time: 14.28 minutes\n",
      "Epoch: 249/999 | Loss: 0.0080 | Episodes: 1 | Win count: 194 | Win rate: 0.980 | time: 14.30 minutes\n",
      "Epoch: 250/999 | Loss: 0.0016 | Episodes: 1 | Win count: 195 | Win rate: 0.980 | time: 14.30 minutes\n",
      "Epoch: 251/999 | Loss: 0.0200 | Episodes: 1 | Win count: 196 | Win rate: 0.980 | time: 14.34 minutes\n",
      "Epoch: 252/999 | Loss: 0.0174 | Episodes: 1 | Win count: 197 | Win rate: 0.980 | time: 14.37 minutes\n",
      "Epoch: 253/999 | Loss: 0.0167 | Episodes: 1 | Win count: 198 | Win rate: 0.980 | time: 14.40 minutes\n",
      "Epoch: 254/999 | Loss: 0.0144 | Episodes: 1 | Win count: 199 | Win rate: 0.980 | time: 14.43 minutes\n",
      "Epoch: 255/999 | Loss: 0.0267 | Episodes: 1 | Win count: 200 | Win rate: 0.980 | time: 14.48 minutes\n",
      "Epoch: 256/999 | Loss: 0.0228 | Episodes: 1 | Win count: 201 | Win rate: 0.980 | time: 14.52 minutes\n",
      "Epoch: 257/999 | Loss: 0.0218 | Episodes: 1 | Win count: 202 | Win rate: 0.980 | time: 14.56 minutes\n",
      "Epoch: 258/999 | Loss: 0.0145 | Episodes: 1 | Win count: 203 | Win rate: 0.980 | time: 14.60 minutes\n",
      "Epoch: 259/999 | Loss: 0.0167 | Episodes: 1 | Win count: 204 | Win rate: 0.990 | time: 14.63 minutes\n",
      "Epoch: 260/999 | Loss: 0.0020 | Episodes: 1 | Win count: 205 | Win rate: 0.990 | time: 14.63 minutes\n",
      "Epoch: 261/999 | Loss: 0.0034 | Episodes: 1 | Win count: 206 | Win rate: 1.000 | time: 14.64 minutes\n",
      "Reached consistent win rate ≥ 0.999 at epoch 261\n",
      "Training complete in: 14.64 minutes\n"
     ]
    }
   ],
   "source": [
    "model = build_model(maze)\n",
    "qtrain(model, maze, n_epoch=1000, max_memory=8*maze.size, data_size=32, target_update_freq=50)"
   ]
  },
  {
   "cell_type": "markdown",
   "metadata": {},
   "source": [
    "This cell will check to see if the model passes the completion check. Note: This could take several minutes."
   ]
  },
  {
   "cell_type": "code",
   "execution_count": 14,
   "metadata": {
    "scrolled": true
   },
   "outputs": [
    {
     "data": {
      "text/plain": [
       "<matplotlib.image.AxesImage at 0x714d8ace3150>"
      ]
     },
     "execution_count": 14,
     "metadata": {},
     "output_type": "execute_result"
    },
    {
     "data": {
      "image/png": "[encoded data removed]",
      "text/plain": [
       "<Figure size 640x480 with 1 Axes>"
      ]
     },
     "metadata": {},
     "output_type": "display_data"
    }
   ],
   "source": [
    "completion_check(model, qmaze)\n",
    "show(qmaze)"
   ]
  },
  {
   "cell_type": "markdown",
   "metadata": {},
   "source": [
    "This cell will test your model for one game. It will start the pirate at the top-left corner and run <b>play_game()</b>. The agent should find a path from the starting position to the target (treasure). The treasure is located in the bottom-right corner."
   ]
  },
  {
   "cell_type": "code",
   "execution_count": 15,
   "metadata": {
    "scrolled": false
   },
   "outputs": [
    {
     "data": {
      "text/plain": [
       "<matplotlib.image.AxesImage at 0x714d5faf8910>"
      ]
     },
     "execution_count": 15,
     "metadata": {},
     "output_type": "execute_result"
    },
    {
     "data": {
      "image/png": "[encoded data removed]",
      "text/plain": [
       "<Figure size 640x480 with 1 Axes>"
      ]
     },
     "metadata": {},
     "output_type": "display_data"
    }
   ],
   "source": [
    "pirate_start = (0, 0)\n",
    "play_game(model, qmaze, pirate_start)\n",
    "show(qmaze)"
   ]
  },
  {
   "cell_type": "markdown",
   "metadata": {},
   "source": [
    "## Save and Submit Your Work\n",
    "After you have finished creating the code for your notebook, save your work.\n",
    "Make sure that your notebook contains your name in the filename (e.g. Doe_Jane_ProjectTwo.html). Download this file as an .html file clicking on ***file*** in *Jupyter Notebook*, navigating down to ***Download as*** and clicking on ***.html***. \n",
    "Download a copy of your .html file and submit it to Brightspace."
   ]
  }
 ],
 "metadata": {
  "kernelspec": {
   "display_name": "Python 3 (ipykernel)",
   "language": "python",
   "name": "python3"
  },
  "language_info": {
   "codemirror_mode": {
    "name": "ipython",
    "version": 3
   },
   "file_extension": ".py",
   "mimetype": "text/x-python",
   "name": "python",
   "nbconvert_exporter": "python",
   "pygments_lexer": "ipython3",
   "version": "3.11.2"
  }
 },
 "nbformat": 4,
 "nbformat_minor": 2
}
